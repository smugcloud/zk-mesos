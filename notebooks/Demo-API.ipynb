{
 "cells": [
  {
   "cell_type": "markdown",
   "metadata": {},
   "source": [
    "# Apache Mesos HTTP API\n",
    "\n",
    "This notebook will show how to connect to a running Apache Mesos Master and launch an Ngnix container to serve pages from a static website.\n",
    "\n",
    "The main goal of this notebook is to show how to interact with the new [Mesos HTTP API](https://github.com/apache/mesos/blob/master/docs/scheduler-http-api.md) in Python.\n",
    "\n",
    "\n",
    "## Prerequisites\n",
    "\n",
    "See [this blog entry](https://codetrips.com/2016/08/27/a-python-notebook-to-experiment-with-the-apache-mesos-http-api-part-1-of-3/) for more information about setting up your development environment to run Mesos and this notebook.\n",
    "\n",
    "## Starting Mesos\n",
    "\n",
    "### Vagrant Up\n",
    "\n",
    "There is a [`Vagrantfile`](https://github.com/massenz/zk-mesos/blob/develop/vagrant/Vagrantfile) provided in this repository (along with a couple of `provisioning` shell scripts) that will do the needful:\n",
    "\n",
    "    cd vagrant\n",
    "    vagrant up\n",
    "\n",
    "This will create two VMs (Master and Agent) running under [Virtualbox](http://virtualbox.org) and reachable at, respectively, `192.168.33.10:5050` and `192.168.33.11:5051`.\n",
    "\n",
    "You could also edit the host machine's `/etc/hosts/` file to make those IPs be the targets for hostnames `mesos-master` and `mesos-agent`:\n",
    "\n",
    "    # Add at the end of your /etc/hosts:\n",
    "    mesos-master   192.168.33.10\n",
    "    mesos-agent    192.168.33.11\n",
    "    \n",
    "Test that Mesos is running __before__ executing this notebook by opening a browser and pointing it to http://192.168.33.10:5050: it should show the status page of the Mesos Master.\n",
    "\n",
    "#### Troubleshooting Vagrant\n",
    "\n",
    "If either the Master/Agent do not come up (or they do and fail) troubleshooting the actual cause of failure is going to be hard; this is what I typically do:\n",
    "\n",
    "* re-provision the VMs (`vagrant halt` and `vagrant up --provision`);\n",
    "* destroy the VMs (`vagrant destroy`) and run `vagrant up` again;\n",
    "* log on either VM (`vagrant ssh master`) and look at the logs (in `/var/local/mesos/logs/master`), fix whatever needs fixing and try to re-run Mesos from within the VM:\n",
    "\n",
    "```\n",
    "cd\n",
    "sudo ./run-master.sh\n",
    "```\n",
    "\n",
    "## Python Virtualenv\n",
    "\n",
    "I always strongly recommend that folks use virtual environments when messing around with Python and installing libraries - feel free to skip this, but if you end up borking your system... **you have been warned**.\n",
    "\n",
    "Unfortunately, due to some issues around JSON and string encoding, this notebook only runs with Python 2.7, so make sure this is what the virtual env is going to use:\n",
    "\n",
    "```\n",
    "sudo pip install virtualenv\n",
    "virtualenv -p `which python2` demo\n",
    "source demo/bin/activate\n",
    "pip install -r requirements.txt\n",
    "jupyter notebook\n",
    "```\n",
    "\n",
    "Then load this file (`notebooks/demo.pynb`) in the browser page that opens (if it doesn't, navigate to http://localhost:8888).\n",
    "\n",
    "Happy hacking!"
   ]
  },
  {
   "cell_type": "markdown",
   "metadata": {},
   "source": [
    "\n",
    "# Common Imports & Useful globals"
   ]
  },
  {
   "cell_type": "code",
   "execution_count": null,
   "metadata": {
    "collapsed": false
   },
   "outputs": [],
   "source": [
    "from __future__ import print_function\n",
    "\n",
    "import json\n",
    "import os\n",
    "import pprint\n",
    "import random\n",
    "import requests\n",
    "import sh\n",
    "from threading import Thread\n",
    "from time import ctime, sleep, time\n",
    "\n",
    "\n",
    "# See KillTaskMessage in include/mesos/v1/scheduler/scheduler.proto\n",
    "#\n",
    "# IMPORTANT - note the \"user\" field in the SUBSCRIBE body: it MUST be\n",
    "# a valid user for the Vagrant box: make sure it is the one that Vagrant\n",
    "# will create (it used to be `vagrant` it appears to be `ubuntu` now) for\n",
    "# the Agent VM - or one you subsequently create.\n",
    "# Failing to have a valid user will cause TASK_FAILED to happen whenever you\n",
    "# try to launch a container.\n",
    "#\n",
    "SUBSCRIBE_BODY = {\n",
    "    \"type\": \"SUBSCRIBE\",\n",
    "    \"subscribe\": {\n",
    "        \"framework_info\": {\n",
    "            \"user\" :  \"ubuntu\",\n",
    "            \"name\" :  \"Demo Mesos HTTP API Framework\"\n",
    "        },\n",
    "        \"force\" : True\n",
    "    }\n",
    "}\n",
    "\n",
    "#### **NOTE**\n",
    "#\n",
    "# Even though framework_id is defined as \"optional\" in scheduler.proto, it MUST\n",
    "# always be present:\n",
    "#      optional FrameworkID framework_id = 1;\n",
    "#\n",
    "# in all Call messages, apart from the SUBSCRIBE - because we don't have an ID\n",
    "# before subscribing (which is why it's defined as `optional`).\n",
    "\n",
    "\n",
    "# See KillTaskMessage in include/mesos/v1/scheduler/scheduler.proto\n",
    "TEARDOWN_BODY = {\n",
    "    \"type\": \"TEARDOWN\",\n",
    "    \"framework_id\": {\n",
    "        \"value\" : None\n",
    "    }\n",
    "}\n",
    "\n",
    "# See KillTaskMessage in include/mesos/v1/scheduler/scheduler.proto\n",
    "KILLTASK_BODY = {\n",
    "    \"type\": \"KILL\",\n",
    "    \"framework_id\": {\n",
    "        \"value\" : None\n",
    "    },\n",
    "    \"kill\": {\n",
    "        \"agent_id\": {\"value\": None},\n",
    "        \"task_id\": {\"value\": None}\n",
    "    }\n",
    "}\n",
    "\n",
    "\n",
    "DOCKER_JSON = \"../resources/container.json\"\n",
    "LAUNCH_JSON = \"../resources/launch.json\"\n",
    "TASK_RESOURCES_JSON = \"../resources/task_resources.json\"\n",
    "\n",
    "\n",
    "# Adjust the ports according to how you launched Mesos:\n",
    "# see --port in the commands in \"Prerequisites\"\n",
    "MASTER_URL = 'http://192.168.33.10:5050'\n",
    "SLAVE_URL = 'http://192.168.33.11:5051'\n",
    "API_V1 = 'api/v1/scheduler'\n",
    "API_URL = '{}/{}'.format(MASTER_URL, API_V1)\n",
    "CONTENT = 'application/json'\n",
    "\n",
    "headers = {\n",
    "    \"Content-Type\": CONTENT, \n",
    "    \"Accept\": CONTENT, \n",
    "    \"Connection\": \"close\"\n",
    "}\n",
    "\n",
    "pretty = pprint.PrettyPrinter(indent=2)\n",
    "\n",
    "def get_json(filename):\n",
    "    \"\"\" Loads the JSON from the given filename.\"\"\"\n",
    "    with open(filename) as jsonfile:\n",
    "        lines = jsonfile.readlines()\n",
    "\n",
    "    return json.loads(\"\".join(lines))"
   ]
  },
  {
   "cell_type": "markdown",
   "metadata": {},
   "source": [
    "These are the globals that are used to communicate with the background thread; they are currently **thread-unsafe** and may (or may not - chances of a race are pretty slim here) need to be protected with a `RLock`"
   ]
  },
  {
   "cell_type": "code",
   "execution_count": null,
   "metadata": {
    "collapsed": true
   },
   "outputs": [],
   "source": [
    "# TODO: THIS IS THREAD-UNSAFE\n",
    "terminate = False\n",
    "offers = []\n",
    "framework_id = None\n",
    "last_heartbeat = None\n",
    "stream_id = None\n",
    "last_error = None"
   ]
  },
  {
   "cell_type": "markdown",
   "metadata": {},
   "source": [
    "## POST helper method\n",
    "\n",
    "Sends POST request to the given URL using the `requests` library: all optional arguments passed in `**kwargs` are passed straight through to the `post()` call.\n",
    "\n",
    "If it's not a \"streaming\" request (see below) and we get a `2xx` response, we return the `Response` object.\n",
    "\n",
    "### Streaming channel\n",
    "\n",
    "When we specify a `stream` argument in `**kwargs`, then we open a \"streaming channel\" to Master: this is used to subscribe a Framework.\n",
    "\n",
    "This uses [Request's streaming API](http://www.python-requests.org/en/latest/user/advanced/#chunk-encoded-requests) for the \"chunk-encoded response\".\n",
    "\n",
    "This method opens a persistent connection to the Master which will continue to receive events \"callbacks\" for\n",
    "the lifetime of the Framework; the stream is serialized in `RecordIO` format, which essential means it\n",
    "looks something like:\n",
    "```\n",
    "110\\n\n",
    "{ \"type\": \"OFFERS\", ... }224\\n\n",
    "{ \"type\": \"HEARTBEAT\"... }435\\n\n",
    "...\n",
    "```\n",
    "this will continue until we either tear down the connection, or send a `TEARDOWN` call (see `terminate_framework()` below)."
   ]
  },
  {
   "cell_type": "code",
   "execution_count": 58,
   "metadata": {
    "collapsed": false
   },
   "outputs": [
    {
     "name": "stderr",
     "output_type": "stream",
     "text": [
      "<ipython-input-58-54a7911ee8ed>:48: SyntaxWarning: name 'headers' is used prior to global declaration\n",
      "  global framework_id, stream_id, headers\n"
     ]
    }
   ],
   "source": [
    "def post(url, body, sid=None, **kwargs):\n",
    "    \"\"\" POST `body` to the given `url`.\n",
    "    \n",
    "        @return: the Response from the server.\n",
    "        @rtype: requests.Response\n",
    "    \"\"\"\n",
    "    import time\n",
    "    print('Connecting to Master: ' + url)\n",
    "    print(\"body type: \", body['type'])\n",
    "    \n",
    "    # The SUBSCRIBE API call MUST NOT have the `Mesos-Stream-Id` header.\n",
    "    if body['type'] == 'SUBSCRIBE':\n",
    "        headers.pop('Mesos-Stream-Id', None)\n",
    "        \n",
    "    r = requests.post(url, headers=headers, data=json.dumps(body), **kwargs)\n",
    "    \n",
    "    if r.status_code not in [200, 202]:\n",
    "        print(\"Error [{}] sending request: {}\".format(r.status_code, r.text))\n",
    "    if 'stream' in kwargs:\n",
    "        # The streaming format needs some munging:\n",
    "        first_line = True\n",
    "        for line in r.iter_lines():\n",
    "            if first_line:\n",
    "                count_bytes = int(line)\n",
    "                first_line = False\n",
    "                continue\n",
    "            body = json.loads(line[:count_bytes])\n",
    "            try:\n",
    "                count_bytes = int(line[count_bytes:])\n",
    "            except ValueError:\n",
    "                # This happens when the connection is closed, there are no more records\n",
    "                # we just ignore and return.\n",
    "                return\n",
    "            \n",
    "            if body.get(\"type\") == \"HEARTBEAT\":\n",
    "                global last_heartbeat\n",
    "                last_hearbeat = time.ctime()\n",
    "            if body.get(\"type\") == \"ERROR\":\n",
    "                print(\"[ERROR] {}\".format(body))\n",
    "                global last_error\n",
    "                last_error = body\n",
    "            # When we get OFFERS we want to see them (and eventually, use them)\n",
    "            if body.get(\"type\") == \"OFFERS\":\n",
    "                global offers\n",
    "                offers = body.get(\"offers\")\n",
    "            # We need to capture the framework_id to use in subsequent requests.\n",
    "            if body.get(\"type\") == \"SUBSCRIBED\":\n",
    "                global framework_id, stream_id, headers\n",
    "                stream_id = r.headers['Mesos-Stream-Id']\n",
    "                headers['Mesos-Stream-Id'] = stream_id\n",
    "                print(\"Stream-id: \", stream_id)\n",
    "                framework_id = body.get(\"subscribed\").get(\"framework_id\").get(\"value\")\n",
    "                if framework_id:\n",
    "                    print(\"Framework {} registered with Master at ({})\".format(framework_id, url))\n",
    "            if terminate:\n",
    "                return\n",
    "    return r"
   ]
  },
  {
   "cell_type": "code",
   "execution_count": 59,
   "metadata": {
    "collapsed": true
   },
   "outputs": [],
   "source": [
    "def get_framework(index=None, id=None):\n",
    "    \"\"\"Gets information about the given Framework.\n",
    "    \n",
    "       From the `/state.json` endpoint (soon to be deprecated, in favor of `/state`)\n",
    "       we retrieve the Framework information.\n",
    "       \n",
    "       Can only specify one of either `index` or `id`.\n",
    "       \n",
    "       @param index: the index in the array of active frameworks\n",
    "       @param id: the framework ID\n",
    "       @return: the full `FrameworkInfo` structure\n",
    "       @rtype: dict\n",
    "    \"\"\"\n",
    "    if index and id:\n",
    "        raise ValueError(\"Cannot specify both ID and Index\")\n",
    "    r = requests.get(\"{}/state.json\".format(MASTER_URL))\n",
    "    master_state = r.json()\n",
    "    frameworks = master_state.get(\"frameworks\")\n",
    "    if frameworks and isinstance(frameworks, list):\n",
    "        if index is not None and len(frameworks) > index:\n",
    "            return frameworks[index]\n",
    "        elif id:\n",
    "            for framework in frameworks:\n",
    "                if framework.get(\"id\") == id:\n",
    "                    return framework"
   ]
  },
  {
   "cell_type": "markdown",
   "metadata": {},
   "source": [
    "## Warm up\n",
    "\n",
    "The following code just checks that there is connectivity and the settings are all correct: do not move forward until this run successfully."
   ]
  },
  {
   "cell_type": "code",
   "execution_count": 60,
   "metadata": {
    "collapsed": false
   },
   "outputs": [
    {
     "name": "stdout",
     "output_type": "stream",
     "text": [
      "Mesos version running at 1.0.0\n"
     ]
    },
    {
     "ename": "AssertionError",
     "evalue": "",
     "output_type": "error",
     "traceback": [
      "\u001b[0;31m---------------------------------------------------------------------------\u001b[0m",
      "\u001b[0;31mAssertionError\u001b[0m                            Traceback (most recent call last)",
      "\u001b[0;32m<ipython-input-60-3696d21cca17>\u001b[0m in \u001b[0;36m<module>\u001b[0;34m()\u001b[0m\n\u001b[1;32m     10\u001b[0m \u001b[0;34m\u001b[0m\u001b[0m\n\u001b[1;32m     11\u001b[0m \u001b[0;31m# And right now there ought to be no frameworks:\u001b[0m\u001b[0;34m\u001b[0m\u001b[0;34m\u001b[0m\u001b[0m\n\u001b[0;32m---> 12\u001b[0;31m \u001b[0;32massert\u001b[0m \u001b[0mget_framework\u001b[0m\u001b[0;34m(\u001b[0m\u001b[0mindex\u001b[0m\u001b[0;34m=\u001b[0m\u001b[0;36m0\u001b[0m\u001b[0;34m)\u001b[0m \u001b[0;32mis\u001b[0m \u001b[0mNone\u001b[0m\u001b[0;34m\u001b[0m\u001b[0m\n\u001b[0m",
      "\u001b[0;31mAssertionError\u001b[0m: "
     ]
    }
   ],
   "source": [
    "r = requests.get(\"{}/state\".format(MASTER_URL))\n",
    "master_state = r.json()\n",
    "\n",
    "r = requests.get(\"{}/state\".format(SLAVE_URL))\n",
    "slave_state = r.json()\n",
    "\n",
    "# If this is not true, you're in for a world of hurt:\n",
    "assert master_state[\"version\"] == slave_state[\"version\"]\n",
    "print(\"Mesos version running at {}\".format(master_state[\"version\"]))\n",
    "\n",
    "# And right now there ought to be no frameworks:\n",
    "assert get_framework(index=0) is None"
   ]
  },
  {
   "cell_type": "markdown",
   "metadata": {},
   "source": [
    "# Registering a Framework\n",
    "\n",
    "Using the [HTTP API](http://mesos.apache.org/documentation/latest/scheduler-http-api/) requires to run at least two separate threads: one for the \"incoming\" Master messages **to** the Framework (the HTTP connection we opened with the initial `SUBSCRIBE` `POST`) and another **from** the Framework to the Master to actual convey our requests (eg, accepting `OFFER`s).\n",
    "\n",
    "The response to the `SUBSCRIBE` request, contains the following header:\n",
    "\n",
    "    Mesos-Stream-Id: 130ae4e3-6b13-4ef4-baa9-9f2e85c3e9af\n",
    "\n",
    "which we will need to save and re-use in all subsequent requests.\n",
    "\n",
    "We will be using the `threading` module, as this is I/O-bound and there is no CPU contention; we will run a background thread (`persistent_channel`) to receive messages from Mesos, and will use the main thread to send `requests` to Master.\n",
    "\n",
    "The code in this Notebook **is not thread-safe**; in particular, we don't use any form of locking, as there is no real concern about races over shared data: in real production code, one should obviously protect shared data with suitable `locks` (see the [Python Multithreading documentation](https://docs.python.org/3/library/threading.html) for more details)."
   ]
  },
  {
   "cell_type": "code",
   "execution_count": 61,
   "metadata": {
    "collapsed": false
   },
   "outputs": [
    {
     "name": "stdout",
     "output_type": "stream",
     "text": [
      "The background channel was started to http://192.168.33.10:5050/api/v1/schedulerConnecting to Master: http://192.168.33.10:5050/api/v1/scheduler\n",
      "\n",
      "body type:  SUBSCRIBE\n",
      "Stream-id:  609e69aa-63d7-4fba-90b3-af5605c3cb26\n",
      "Framework 7eb34f10-b07c-4921-aece-bbaece09dfd1-0004 registered with Master at (http://192.168.33.10:5050/api/v1/scheduler)\n"
     ]
    }
   ],
   "source": [
    "try:\n",
    "    kwargs = {'stream':True, 'timeout':30}\n",
    "    persistent_channel = Thread(target=post, args=(API_URL, SUBSCRIBE_BODY), kwargs=kwargs)\n",
    "    persistent_channel.daemon = True\n",
    "    persistent_channel.start()\n",
    "    print(\"The background channel was started to {}\".format(API_URL))\n",
    "except Exception as ex:\n",
    "    print(\"An error occurred: {}\".format(ex))"
   ]
  },
  {
   "cell_type": "markdown",
   "metadata": {},
   "source": [
    "# Terminating a Framework\n",
    "\n",
    "The request above will keep running forever (but see [Terminating the Request](#terminating) below) until we tear down the framework we just started:"
   ]
  },
  {
   "cell_type": "code",
   "execution_count": 62,
   "metadata": {
    "collapsed": false
   },
   "outputs": [],
   "source": [
    "def terminate_framework(fid=None, sid=None):\n",
    "    if not fid:\n",
    "        framework = get_framework(0)\n",
    "        if framework:\n",
    "            fid = framework['id']\n",
    "        else:\n",
    "            print(\"No frameworks to terminate\")\n",
    "    body = TEARDOWN_BODY\n",
    "    body['framework_id']['value'] = fid\n",
    "    post(API_URL, body, sid=sid)"
   ]
  },
  {
   "cell_type": "markdown",
   "metadata": {},
   "source": [
    "## <a name=\"terminating\"></a>Terminating the Request\n",
    "\n",
    "The following is a \"best effort\" to close the running background thread that keeps the connection with Master alive: this actually only works if the Master keeps sending HEARTBEAT messages (so, on the next loop iteration `terminate` gets checked).\n",
    "\n",
    "In theory, the `timeout` passed at start should prevent the thread to become unresponsive if no more messages are processed, but this does not necessarily seem to always be the case.\n",
    "\n",
    "If all else fails, restarting the IPython kernel seems to be the only (unsatisfactory) solution."
   ]
  },
  {
   "cell_type": "code",
   "execution_count": 63,
   "metadata": {
    "collapsed": true
   },
   "outputs": [],
   "source": [
    "def close_channel():\n",
    "    if persistent_channel.is_alive():\n",
    "        terminate = True\n",
    "        \n",
    "    framework_id = None\n",
    "    offers = None\n",
    "        \n",
    "    # Wait a bit...\n",
    "    sleep(5)\n",
    "    print(\"Channel was closed: {}\".format(persistent_channel.is_alive()))"
   ]
  },
  {
   "cell_type": "code",
   "execution_count": 64,
   "metadata": {
    "collapsed": false
   },
   "outputs": [
    {
     "name": "stdout",
     "output_type": "stream",
     "text": [
      "Connecting to Master: http://192.168.33.10:5050/api/v1/scheduler\n",
      "body type:  TEARDOWN\n",
      "Channel was closed: False\n"
     ]
    }
   ],
   "source": [
    "# To close the incoming channel use the following code;\n",
    "# this will also terminate the framework (if still running).\n",
    "\n",
    "# NOTE: Commented out to avoid accidental execution\n",
    "terminate_framework(fid=framework_id)\n",
    "close_channel()\n",
    "\n",
    "pass"
   ]
  },
  {
   "cell_type": "markdown",
   "metadata": {},
   "source": [
    "# Accepting Offers for Resources\n",
    "\n",
    "We need a tiny amount of resources (0.1 CPU, 32 MB of RAM) to run a simple command on the Slave.\n",
    "\n",
    "## Wait for Offers\n",
    "\n",
    "We need to wait first for the framework to register, then to get resource offers:"
   ]
  },
  {
   "cell_type": "code",
   "execution_count": 65,
   "metadata": {
    "collapsed": false
   },
   "outputs": [
    {
     "name": "stdout",
     "output_type": "stream",
     "text": [
      "Registered a Framework with ID: 7eb34f10-b07c-4921-aece-bbaece09dfd1-0004\n",
      "Waiting for offers...\n",
      "..........Failed to obtain resources, terminating Framework\n",
      "Connecting to Master: http://192.168.33.10:5050/api/v1/scheduler\n",
      "body type:  TEARDOWN\n",
      "Error [400] sending request: Framework cannot be found\n",
      "Channel was closed: False\n"
     ]
    }
   ],
   "source": [
    "# This code is safe to execute any number of times; it will only try to connect once.\n",
    "# In other words, it's idempotent:\n",
    "\n",
    "count = 0\n",
    "while not framework_id and count < 10:\n",
    "    sleep(3)\n",
    "    print('.', end=\"\")\n",
    "    count += 1\n",
    "    \n",
    "if not framework_id:\n",
    "    print(\"Failed to register, terminating Framework\")\n",
    "    close_channel()\n",
    "else:\n",
    "    print(\"Registered a Framework with ID: {}\".format(framework_id))\n",
    "\n",
    "    print(\"Waiting for offers...\")\n",
    "\n",
    "    count = 0\n",
    "    while not offers and count < 10:\n",
    "        print('.', end=\"\")\n",
    "        sleep(3)\n",
    "        count += 1\n",
    "        \n",
    "    if not offers:\n",
    "        print(\"Failed to obtain resources, terminating Framework\")\n",
    "        terminate_framework(framework_id)\n",
    "        close_channel()\n",
    "    else:\n",
    "        print(\"Got offers:\")\n",
    "        pretty.pprint(offers)"
   ]
  },
  {
   "cell_type": "markdown",
   "metadata": {},
   "source": [
    "## Launch a Task using the given offers\n",
    "\n",
    "**NOTE** This is not a recommended way of using Apache Mesos to launch tasks - see [Launching a container](#Launching-a-Container) below instead.\n",
    "\n",
    "The snippet below shows how one would use a `CommandInfo` protobuf, embedded inside the `Launch` message - see \n",
    "[`mesos.proto`](https://github.com/apache/mesos/blob/master/include/mesos/v1/mesos.proto#L260) and the [Accept](https://github.com/apache/mesos/blob/master/include/mesos/v1/scheduler/scheduler.proto#L228) message.\n",
    "\n",
    "It is **not** recommended you use this code; if you do, **remembner to re-run the [Wait for Offers](#Wait-for-Offers) snippet** to get a new offer to accept more resources, **before** launching the container using the next section."
   ]
  },
  {
   "cell_type": "code",
   "execution_count": null,
   "metadata": {
    "collapsed": false
   },
   "outputs": [],
   "source": [
    "launch_json = get_json(LAUNCH_JSON)\n",
    "\n",
    "task_id = str(random.randint(100, 1000))\n",
    "\n",
    "launch_json[\"accept\"][\"offer_ids\"].append(offers.get(\"offers\")[0][\"id\"])\n",
    "launch_json[\"framework_id\"][\"value\"] = framework_id\n",
    "\n",
    "task_infos = launch_json[\"accept\"][\"operations\"][0][\"launch\"][\"task_infos\"][0]\n",
    "\n",
    "task_infos[\"task_id\"][\"value\"] = task_id\n",
    "task_infos[\"command\"][\"value\"] = \"cd /var/local/www && /usr/bin/python -m SimpleHTTPServer 9000\"\n",
    "task_infos[\"agent_id\"][\"value\"] = offers.get('offers')[0][\"agent_id\"][\"value\"]\n",
    "task_infos[\"resources\"] = get_json(TASK_RESOURCES_JSON)\n",
    "\n",
    "\n",
    "try:\n",
    "    # Uncomment the line below to actually send the request\n",
    "    # r = post(API_URL, launch_json)\n",
    "    print(\"Result: {}\".format(r.status_code))\n",
    "    if 200 <= r.status_code < 300:\n",
    "        print(\"Successfully launched task {} on Agent [{}]\".format(task_id, offers.get('offers')[0][\"agent_id\"][\"value\"]))\n",
    "except ValueError, err:\n",
    "    print(\"Request failed: {}\".format(err))"
   ]
  },
  {
   "cell_type": "markdown",
   "metadata": {},
   "source": [
    "## Launching a Container\n",
    "\n",
    "The recommended way of using Apache Mesos in a Production environment, is to launch a container, using the fuller form of the `LAUNCH` request: see the [container.json](https://github.com/massenz/zk-mesos/blob/develop/resources/container.json) file: we can read that in and then update those fields that are specific to the framework/offer.\n",
    "\n",
    "```\n",
    "{\n",
    "  \"framework_id\": {\n",
    "    \"value\": ## put the framework_id here ##\n",
    "  },\n",
    "  \"type\": \"ACCEPT\",\n",
    "  \"accept\": {\n",
    "    \"offer_ids\": [\n",
    "        ## We'll need to append the offer_id here ##\n",
    "    ],\n",
    "    \"operations\": [\n",
    "      {\n",
    "        \"type\": \"LAUNCH\",\n",
    "        \"launch\": {\n",
    "          \"task_infos\": [\n",
    "            {\n",
    "              \"name\": \"PingContainer\",\n",
    "              \"agent_id\": {\n",
    "                \"value\": ## This is the ID of the agent, from the offer ##\n",
    "              },\n",
    "              \"task_id\": {\n",
    "                \"value\": ## This is an arbitrary ID for the task, must be unique ##\n",
    "              },\n",
    "              \"command\": {\n",
    "                \"shell\": true,\n",
    "                \"value\": \"ping -t 100 google.com\"  <<-- we can ask the container to run a command\n",
    "              },\n",
    "              \"container\": {\n",
    "                \"docker\": {\n",
    "                  \"image\": \"busybox\", <<-- this is the name of the container\n",
    "                  \"network\": \"HOST\",\n",
    "                  \"privileged\": false\n",
    "                },\n",
    "                \"type\": \"DOCKER\"  <<-- here we ask Mesos to use Docker\n",
    "                                    -- remember to start the slave with --containerizer=docker\n",
    "              },\n",
    "              ...\n",
    "          }\n",
    "        ]\n",
    "      }\n",
    "      ...\n",
    " }\n",
    " ```\n",
    "\n",
    "In order for this to work, the Agent needs to be launched with the `--containerizer=docker,mesos` option (see\n",
    "[here](http://mesos.apache.org/documentation/latest/docker-containerizer/)).\n",
    " \n",
    "### Container URIs\n",
    " \n",
    "Because the `CommandInfo` also specifies a `tarball` to be downloaded and extracted, this will be defined by the following snippet, inside the `command` dictionary:\n",
    "\n",
    "    'uris': [\n",
    "        {\n",
    "            'extract': True,\n",
    "            'value': 'http://192.168.33.1:9000/content.tar.gz'\n",
    "        }\n",
    "    ]\n",
    "\n",
    "In Production, one would obviously use a dynamically set location (eg, an AWS S3 bucket URL) to donwload the tarball from; for this example, we will be running a simple Python HTTP server, with the following commands (execute them from another terminal shell):\n",
    "\n",
    "```bash\n",
    "$ cd "
   ]
  },
  {
   "cell_type": "code",
   "execution_count": null,
   "metadata": {
    "collapsed": false
   },
   "outputs": [],
   "source": [
    "container_launch_info = get_json(DOCKER_JSON)\n",
    "\n",
    "# Need to update the fields that reflect the offer ID / agent ID and a random, unique task ID:\n",
    "task_id = str(random.randint(1, 100))\n",
    "agent_id = offers.get('offers')[0]['agent_id']['value']\n",
    "offer_id = offers.get('offers')[0]['id']\n",
    "\n",
    "container_launch_info[\"framework_id\"][\"value\"] = framework_id\n",
    "container_launch_info[\"accept\"][\"offer_ids\"].append(offer_id)\n",
    "\n",
    "task_infos = container_launch_info[\"accept\"][\"operations\"][0][\"launch\"][\"task_infos\"][0]\n",
    "task_infos[\"agent_id\"][\"value\"] = agent_id\n",
    "task_infos[\"task_id\"][\"value\"] = task_id\n",
    "task_infos[\"resources\"].append(get_json(TASK_RESOURCES_JSON))\n",
    "\n",
    "\n",
    "#### URIS\n",
    "# $MESOS_SANDBOX\n",
    "# launch agent with --sandbox_directory\n",
    "###\n",
    "\n",
    "print(\"Sending ACCEPT message, launching a DOCKER container:\")\n",
    "pretty.pprint(container_launch_info)\n",
    "\n",
    "try:\n",
    "    r = post(API_URL, container_launch_info)\n",
    "    print(\"Result: {}\".format(r.status_code))\n",
    "    if r.text:\n",
    "        print(r.text)\n",
    "except ValueError, err:\n",
    "    print(\"Request failed: {}\".format(err))"
   ]
  },
  {
   "cell_type": "markdown",
   "metadata": {},
   "source": [
    "## Killing a Task\n",
    "\n",
    "From time to time, it may be necessary to terminate a task (maybe, to free resources, or because it is misbehaving):"
   ]
  },
  {
   "cell_type": "code",
   "execution_count": null,
   "metadata": {
    "collapsed": true
   },
   "outputs": [],
   "source": [
    "def kill_task(task_id):\n",
    "    body = KILLTASK_BODY\n",
    "    body[\"framework_id\"][\"value\"] = get_framework(0).get(\"id\")\n",
    "    body[\"kill\"][\"agent_id\"][\"value\"] = offers.get('offers')[0][\"agent_id\"][\"value\"]\n",
    "    body[\"kill\"][\"task_id\"][\"value\"] = task_id\n",
    "    post(API_URL, body)"
   ]
  },
  {
   "cell_type": "code",
   "execution_count": null,
   "metadata": {
    "collapsed": false
   },
   "outputs": [],
   "source": [
    "# To kill a task, uncomment the line below, and replace the task ID with the corresponding **string**\n",
    "# (even if the TaskID looks like an int value)\n",
    "kill_task(\"838\")"
   ]
  },
  {
   "cell_type": "markdown",
   "metadata": {},
   "source": [
    "## Heartbeat\n",
    "\n",
    "We receive a `HEARBEAT` event every few seconds from the Master, this confirms that it is still alive and well - failure to receive those would mean that we may need to find a new Leading Master and re-register."
   ]
  },
  {
   "cell_type": "code",
   "execution_count": 69,
   "metadata": {
    "collapsed": false
   },
   "outputs": [],
   "source": [
    "if last_heartbeat:\n",
    "    print(last_heartbeat)"
   ]
  },
  {
   "cell_type": "code",
   "execution_count": 70,
   "metadata": {
    "collapsed": true
   },
   "outputs": [],
   "source": [
    "## Helper function to check for errors - execute this frame to check for errors and print them out\n",
    "if last_error:\n",
    "    print(\"An error may have occurred:\", last_error)\n",
    "    last_error = None"
   ]
  },
  {
   "cell_type": "code",
   "execution_count": 71,
   "metadata": {
    "collapsed": false
   },
   "outputs": [
    {
     "name": "stdout",
     "output_type": "stream",
     "text": [
      "Connecting to Master: http://192.168.33.10:5050/api/v1/scheduler\n",
      "body type:  TEARDOWN\n",
      "Error [400] sending request: The stream ID included in this request didn't match the stream ID currently associated with framework ID '7eb34f10-b07c-4921-aece-bbaece09dfd1-0001'\n"
     ]
    }
   ],
   "source": [
    "terminate_framework('7eb34f10-b07c-4921-aece-bbaece09dfd1-0001')"
   ]
  }
 ],
 "metadata": {
  "kernelspec": {
   "display_name": "Python 2",
   "language": "python",
   "name": "python2"
  },
  "language_info": {
   "codemirror_mode": {
    "name": "ipython",
    "version": 2
   },
   "file_extension": ".py",
   "mimetype": "text/x-python",
   "name": "python",
   "nbconvert_exporter": "python",
   "pygments_lexer": "ipython2",
   "version": "2.7.12"
  }
 },
 "nbformat": 4,
 "nbformat_minor": 0
}
